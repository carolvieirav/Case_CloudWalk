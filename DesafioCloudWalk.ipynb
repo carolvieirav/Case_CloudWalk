{
  "nbformat": 4,
  "nbformat_minor": 0,
  "metadata": {
    "colab": {
      "name": "DesafioCloudWalk.ipynb",
      "provenance": [],
      "collapsed_sections": [
        "qoGWV7PaKmKa"
      ],
      "authorship_tag": "ABX9TyOieOtk+V5nmjf2k6gzY3BO",
      "include_colab_link": true
    },
    "kernelspec": {
      "name": "python3",
      "display_name": "Python 3"
    },
    "language_info": {
      "name": "python"
    }
  },
  "cells": [
    {
      "cell_type": "markdown",
      "metadata": {
        "id": "view-in-github",
        "colab_type": "text"
      },
      "source": [
        "<a href=\"https://colab.research.google.com/github/carolvieirav/Case_CloudWalk/blob/main/DesafioCloudWalk.ipynb\" target=\"_parent\"><img src=\"https://colab.research.google.com/assets/colab-badge.svg\" alt=\"Open In Colab\"/></a>"
      ]
    },
    {
      "cell_type": "code",
      "metadata": {
        "id": "U9X-H3wVB1EX"
      },
      "source": [
        "import pandas as pd\n",
        "import numpy as np\n",
        "import re\n",
        "import collections\n",
        "import matplotlib.pyplot as plt\n",
        "from datetime import datetime"
      ],
      "execution_count": 1,
      "outputs": []
    },
    {
      "cell_type": "code",
      "metadata": {
        "id": "6AEBpe21BiW1"
      },
      "source": [
        "data = pd.read_csv('https://gist.githubusercontent.com/cloudwalk-tests/76993838e65d7e0f988f40f1b1909c97/raw/9ceae962009236d3570f46e59ce9aa334e4e290f/transactional-sample.csv')"
      ],
      "execution_count": 2,
      "outputs": []
    },
    {
      "cell_type": "code",
      "metadata": {
        "colab": {
          "base_uri": "https://localhost:8080/",
          "height": 206
        },
        "id": "QvbxIld3B4YZ",
        "outputId": "90778eb8-6b8b-4efc-f2b0-de4fd120ccf2"
      },
      "source": [
        "data.head()"
      ],
      "execution_count": 3,
      "outputs": [
        {
          "output_type": "execute_result",
          "data": {
            "text/html": [
              "<div>\n",
              "<style scoped>\n",
              "    .dataframe tbody tr th:only-of-type {\n",
              "        vertical-align: middle;\n",
              "    }\n",
              "\n",
              "    .dataframe tbody tr th {\n",
              "        vertical-align: top;\n",
              "    }\n",
              "\n",
              "    .dataframe thead th {\n",
              "        text-align: right;\n",
              "    }\n",
              "</style>\n",
              "<table border=\"1\" class=\"dataframe\">\n",
              "  <thead>\n",
              "    <tr style=\"text-align: right;\">\n",
              "      <th></th>\n",
              "      <th>transaction_id</th>\n",
              "      <th>merchant_id</th>\n",
              "      <th>user_id</th>\n",
              "      <th>card_number</th>\n",
              "      <th>transaction_date</th>\n",
              "      <th>transaction_amount</th>\n",
              "      <th>device_id</th>\n",
              "      <th>has_cbk</th>\n",
              "    </tr>\n",
              "  </thead>\n",
              "  <tbody>\n",
              "    <tr>\n",
              "      <th>0</th>\n",
              "      <td>21320398</td>\n",
              "      <td>29744</td>\n",
              "      <td>97051</td>\n",
              "      <td>434505******9116</td>\n",
              "      <td>2019-12-01T23:16:32.812632</td>\n",
              "      <td>374.56</td>\n",
              "      <td>285475.0</td>\n",
              "      <td>False</td>\n",
              "    </tr>\n",
              "    <tr>\n",
              "      <th>1</th>\n",
              "      <td>21320399</td>\n",
              "      <td>92895</td>\n",
              "      <td>2708</td>\n",
              "      <td>444456******4210</td>\n",
              "      <td>2019-12-01T22:45:37.873639</td>\n",
              "      <td>734.87</td>\n",
              "      <td>497105.0</td>\n",
              "      <td>True</td>\n",
              "    </tr>\n",
              "    <tr>\n",
              "      <th>2</th>\n",
              "      <td>21320400</td>\n",
              "      <td>47759</td>\n",
              "      <td>14777</td>\n",
              "      <td>425850******7024</td>\n",
              "      <td>2019-12-01T22:22:43.021495</td>\n",
              "      <td>760.36</td>\n",
              "      <td>NaN</td>\n",
              "      <td>False</td>\n",
              "    </tr>\n",
              "    <tr>\n",
              "      <th>3</th>\n",
              "      <td>21320401</td>\n",
              "      <td>68657</td>\n",
              "      <td>69758</td>\n",
              "      <td>464296******3991</td>\n",
              "      <td>2019-12-01T21:59:19.797129</td>\n",
              "      <td>2556.13</td>\n",
              "      <td>NaN</td>\n",
              "      <td>True</td>\n",
              "    </tr>\n",
              "    <tr>\n",
              "      <th>4</th>\n",
              "      <td>21320402</td>\n",
              "      <td>54075</td>\n",
              "      <td>64367</td>\n",
              "      <td>650487******6116</td>\n",
              "      <td>2019-12-01T21:30:53.347051</td>\n",
              "      <td>55.36</td>\n",
              "      <td>860232.0</td>\n",
              "      <td>False</td>\n",
              "    </tr>\n",
              "  </tbody>\n",
              "</table>\n",
              "</div>"
            ],
            "text/plain": [
              "   transaction_id  merchant_id  user_id  ... transaction_amount device_id  has_cbk\n",
              "0        21320398        29744    97051  ...             374.56  285475.0    False\n",
              "1        21320399        92895     2708  ...             734.87  497105.0     True\n",
              "2        21320400        47759    14777  ...             760.36       NaN    False\n",
              "3        21320401        68657    69758  ...            2556.13       NaN     True\n",
              "4        21320402        54075    64367  ...              55.36  860232.0    False\n",
              "\n",
              "[5 rows x 8 columns]"
            ]
          },
          "metadata": {
            "tags": []
          },
          "execution_count": 3
        }
      ]
    },
    {
      "cell_type": "code",
      "metadata": {
        "colab": {
          "base_uri": "https://localhost:8080/"
        },
        "id": "r8DDCjaJLReI",
        "outputId": "3851fc68-3fbd-4567-f721-d714a483848b"
      },
      "source": [
        "data.info() # Column device_id is the only one with missing values"
      ],
      "execution_count": 4,
      "outputs": [
        {
          "output_type": "stream",
          "text": [
            "<class 'pandas.core.frame.DataFrame'>\n",
            "RangeIndex: 3199 entries, 0 to 3198\n",
            "Data columns (total 8 columns):\n",
            " #   Column              Non-Null Count  Dtype  \n",
            "---  ------              --------------  -----  \n",
            " 0   transaction_id      3199 non-null   int64  \n",
            " 1   merchant_id         3199 non-null   int64  \n",
            " 2   user_id             3199 non-null   int64  \n",
            " 3   card_number         3199 non-null   object \n",
            " 4   transaction_date    3199 non-null   object \n",
            " 5   transaction_amount  3199 non-null   float64\n",
            " 6   device_id           2369 non-null   float64\n",
            " 7   has_cbk             3199 non-null   bool   \n",
            "dtypes: bool(1), float64(2), int64(3), object(2)\n",
            "memory usage: 178.2+ KB\n"
          ],
          "name": "stdout"
        }
      ]
    },
    {
      "cell_type": "markdown",
      "metadata": {
        "id": "qoGWV7PaKmKa"
      },
      "source": [
        "#Data Pre-processing"
      ]
    },
    {
      "cell_type": "code",
      "metadata": {
        "id": "3oGDfg2pB_0X"
      },
      "source": [
        "def split_date(x):\n",
        "  '''\n",
        "  splits date between date and time information\n",
        "  '''\n",
        "  y = re.split('T', x)\n",
        "  return(y)"
      ],
      "execution_count": 11,
      "outputs": []
    },
    {
      "cell_type": "code",
      "metadata": {
        "id": "90wCqle6geW-"
      },
      "source": [
        "data['transaction_date'] = data.transaction_date.apply(split_date)"
      ],
      "execution_count": 12,
      "outputs": []
    },
    {
      "cell_type": "code",
      "metadata": {
        "id": "IGARAJp-ep0H"
      },
      "source": [
        "data['date'] = [x[0] for x in data.transaction_date]\n",
        "data['time'] = [x[1] for x in data.transaction_date]"
      ],
      "execution_count": 17,
      "outputs": []
    },
    {
      "cell_type": "code",
      "metadata": {
        "colab": {
          "base_uri": "https://localhost:8080/"
        },
        "id": "vdx6Pcplw42-",
        "outputId": "716f1a4b-bcca-4dc3-fb0b-7e7e99aae0e9"
      },
      "source": [
        "np.unique(data.duplicated('date'),return_counts=True)"
      ],
      "execution_count": 21,
      "outputs": [
        {
          "output_type": "execute_result",
          "data": {
            "text/plain": [
              "(array([False,  True]), array([  31, 3168]))"
            ]
          },
          "metadata": {
            "tags": []
          },
          "execution_count": 21
        }
      ]
    },
    {
      "cell_type": "code",
      "metadata": {
        "colab": {
          "base_uri": "https://localhost:8080/",
          "height": 206
        },
        "id": "hbLPhnZ3iRHr",
        "outputId": "49649acf-7275-4557-ab43-4417a070b705"
      },
      "source": [
        "data.drop(['transaction_date'], axis=1, inplace=True)\n",
        "data.head()"
      ],
      "execution_count": 22,
      "outputs": [
        {
          "output_type": "execute_result",
          "data": {
            "text/html": [
              "<div>\n",
              "<style scoped>\n",
              "    .dataframe tbody tr th:only-of-type {\n",
              "        vertical-align: middle;\n",
              "    }\n",
              "\n",
              "    .dataframe tbody tr th {\n",
              "        vertical-align: top;\n",
              "    }\n",
              "\n",
              "    .dataframe thead th {\n",
              "        text-align: right;\n",
              "    }\n",
              "</style>\n",
              "<table border=\"1\" class=\"dataframe\">\n",
              "  <thead>\n",
              "    <tr style=\"text-align: right;\">\n",
              "      <th></th>\n",
              "      <th>transaction_id</th>\n",
              "      <th>merchant_id</th>\n",
              "      <th>user_id</th>\n",
              "      <th>card_number</th>\n",
              "      <th>transaction_amount</th>\n",
              "      <th>device_id</th>\n",
              "      <th>has_cbk</th>\n",
              "      <th>date</th>\n",
              "      <th>time</th>\n",
              "    </tr>\n",
              "  </thead>\n",
              "  <tbody>\n",
              "    <tr>\n",
              "      <th>0</th>\n",
              "      <td>21320398</td>\n",
              "      <td>29744</td>\n",
              "      <td>97051</td>\n",
              "      <td>434505******9116</td>\n",
              "      <td>374.56</td>\n",
              "      <td>285475.0</td>\n",
              "      <td>False</td>\n",
              "      <td>2019-12-01</td>\n",
              "      <td>23:16:32.812632</td>\n",
              "    </tr>\n",
              "    <tr>\n",
              "      <th>1</th>\n",
              "      <td>21320399</td>\n",
              "      <td>92895</td>\n",
              "      <td>2708</td>\n",
              "      <td>444456******4210</td>\n",
              "      <td>734.87</td>\n",
              "      <td>497105.0</td>\n",
              "      <td>True</td>\n",
              "      <td>2019-12-01</td>\n",
              "      <td>22:45:37.873639</td>\n",
              "    </tr>\n",
              "    <tr>\n",
              "      <th>2</th>\n",
              "      <td>21320400</td>\n",
              "      <td>47759</td>\n",
              "      <td>14777</td>\n",
              "      <td>425850******7024</td>\n",
              "      <td>760.36</td>\n",
              "      <td>NaN</td>\n",
              "      <td>False</td>\n",
              "      <td>2019-12-01</td>\n",
              "      <td>22:22:43.021495</td>\n",
              "    </tr>\n",
              "    <tr>\n",
              "      <th>3</th>\n",
              "      <td>21320401</td>\n",
              "      <td>68657</td>\n",
              "      <td>69758</td>\n",
              "      <td>464296******3991</td>\n",
              "      <td>2556.13</td>\n",
              "      <td>NaN</td>\n",
              "      <td>True</td>\n",
              "      <td>2019-12-01</td>\n",
              "      <td>21:59:19.797129</td>\n",
              "    </tr>\n",
              "    <tr>\n",
              "      <th>4</th>\n",
              "      <td>21320402</td>\n",
              "      <td>54075</td>\n",
              "      <td>64367</td>\n",
              "      <td>650487******6116</td>\n",
              "      <td>55.36</td>\n",
              "      <td>860232.0</td>\n",
              "      <td>False</td>\n",
              "      <td>2019-12-01</td>\n",
              "      <td>21:30:53.347051</td>\n",
              "    </tr>\n",
              "  </tbody>\n",
              "</table>\n",
              "</div>"
            ],
            "text/plain": [
              "   transaction_id  merchant_id  user_id  ... has_cbk        date             time\n",
              "0        21320398        29744    97051  ...   False  2019-12-01  23:16:32.812632\n",
              "1        21320399        92895     2708  ...    True  2019-12-01  22:45:37.873639\n",
              "2        21320400        47759    14777  ...   False  2019-12-01  22:22:43.021495\n",
              "3        21320401        68657    69758  ...    True  2019-12-01  21:59:19.797129\n",
              "4        21320402        54075    64367  ...   False  2019-12-01  21:30:53.347051\n",
              "\n",
              "[5 rows x 9 columns]"
            ]
          },
          "metadata": {
            "tags": []
          },
          "execution_count": 22
        }
      ]
    },
    {
      "cell_type": "markdown",
      "metadata": {
        "id": "AFWGZH-FONRz"
      },
      "source": [
        "#Exploratory Analysis"
      ]
    },
    {
      "cell_type": "code",
      "metadata": {
        "colab": {
          "base_uri": "https://localhost:8080/"
        },
        "id": "RheEi9m_xSHi",
        "outputId": "dd409cf6-6c79-4254-9cbf-3d4ddc66da46"
      },
      "source": [
        "def duplicated_count(x):\n",
        "  '''\n",
        "  count duplicated rows\n",
        "  '''\n",
        "  y=np.unique(x.duplicated(), return_counts=True)\n",
        "  print(y[1])\n",
        "\n",
        "data.apply(duplicated_count)"
      ],
      "execution_count": 23,
      "outputs": [
        {
          "output_type": "stream",
          "text": [
            "[3199]\n",
            "[1756 1443]\n",
            "[2704  495]\n",
            "[2925  274]\n",
            "[3124   75]\n",
            "[1997 1202]\n",
            "[   2 3197]\n",
            "[  31 3168]\n",
            "[3199]\n"
          ],
          "name": "stdout"
        },
        {
          "output_type": "execute_result",
          "data": {
            "text/plain": [
              "transaction_id        None\n",
              "merchant_id           None\n",
              "user_id               None\n",
              "card_number           None\n",
              "transaction_amount    None\n",
              "device_id             None\n",
              "has_cbk               None\n",
              "date                  None\n",
              "time                  None\n",
              "dtype: object"
            ]
          },
          "metadata": {
            "tags": []
          },
          "execution_count": 23
        }
      ]
    },
    {
      "cell_type": "markdown",
      "metadata": {
        "id": "fR5PmB03T5DO"
      },
      "source": [
        "Takeaways:"
      ]
    },
    {
      "cell_type": "markdown",
      "metadata": {
        "id": "3-YtzDwoXWhB"
      },
      "source": [
        "**transaction_id:** every transaction id is unique;\n",
        "\n",
        "**time:** every transaction time is unique;\n",
        "\n",
        "**merchant_id:** 1756 merchants have more than one transaction;\n",
        "\n",
        "**user_id:** 2704 users have more than one transaction;\n",
        "\n",
        "**card_number:** 2925 card_numers have more than one transaction;\n",
        "\n",
        "**transaction_amount:** 3124 products have more than one transaction with the same value;\n",
        "\n",
        "**device_id:** 1202 divices have more than one transaction;\n",
        "\n",
        "**date:** 3168 dates have more than one transaction."
      ]
    },
    {
      "cell_type": "code",
      "metadata": {
        "id": "YR4czMhgYwJN"
      },
      "source": [
        "user_info = data[['user_id','card_number','device_id']]\n",
        "transaction_info = data[['user_id', 'card_number', 'merchant_id']]"
      ],
      "execution_count": 153,
      "outputs": []
    },
    {
      "cell_type": "code",
      "metadata": {
        "colab": {
          "base_uri": "https://localhost:8080/"
        },
        "id": "0BsSRkVDi40a",
        "outputId": "1efc02cd-fd6a-4326-d4b5-908e0decad08"
      },
      "source": [
        "data.apply(duplicated_count)"
      ],
      "execution_count": 173,
      "outputs": [
        {
          "output_type": "stream",
          "text": [
            "[2704  495]\n",
            "[2925  274]\n",
            "[1997 1202]\n"
          ],
          "name": "stdout"
        },
        {
          "output_type": "execute_result",
          "data": {
            "text/plain": [
              "user_id        None\n",
              "card_number    None\n",
              "device_id      None\n",
              "dtype: object"
            ]
          },
          "metadata": {
            "tags": []
          },
          "execution_count": 173
        }
      ]
    }
  ]
}